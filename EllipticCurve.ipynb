{
 "cells": [
  {
   "cell_type": "code",
   "execution_count": 2,
   "id": "68a3dd0f",
   "metadata": {},
   "outputs": [
    {
     "name": "stdout",
     "output_type": "stream",
     "text": [
      "Le cardinal de la courbe est : 310717010502520989590206149059164677804\n",
      "L'ordre du point P est : 155358505251260494795103074529582338902\n"
     ]
    }
   ],
   "source": [
    "# Définir le champ fini et la courbe elliptique\n",
    "p = 310717010502520989590157367261876774703\n",
    "a = 2\n",
    "b = 3\n",
    "E = EllipticCurve(GF(p), [a, b])\n",
    "\n",
    "# Coordonnées du point générateur (remplace par les valeurs données)\n",
    "x = 179210853392303317793440285562762725654\n",
    "y = 105268671499942631758568591033409611165\n",
    "try:\n",
    "    P = E((x, y))\n",
    "except ValueError:\n",
    "    print(\"Le point donné n'appartient pas à la courbe.\")\n",
    "else:\n",
    "    # Calculer le cardinal de la courbe\n",
    "    cardinality = E.cardinality()\n",
    "    print(f\"Le cardinal de la courbe est : {cardinality}\")\n",
    "\n",
    "    # Calculer l'ordre du point\n",
    "    order = P.order()\n",
    "    print(f\"L'ordre du point P est : {order}\")\n"
   ]
  },
  {
   "cell_type": "code",
   "execution_count": 6,
   "id": "bc863a41",
   "metadata": {},
   "outputs": [
    {
     "name": "stdout",
     "output_type": "stream",
     "text": [
      "Elliptic curve: A = 2, B = 3, p = 310717010502520989590157367261876774703\n",
      "P = (179210853392303317793440285562762725654 : 105268671499942631758568591033409611165 : 1)\n",
      "Q = d * P =  (280810182131414898730378982766101210916 : 291506490768054478159835604632710368904 : 1)\n",
      "Number of iterations = 13\n",
      "Discrete logarithm found in 58.07805156707764 seconds\n",
      "47836431801801373761601790722388100620\n"
     ]
    }
   ],
   "source": [
    "from sympy import randprime\n",
    "from random import randint\n",
    "from time import time\n",
    "\n",
    "\n",
    "def polig_hellman_dl(E, P, Q):\n",
    "    iter_count = 0\n",
    "    q = P.additive_order()\n",
    "    q_factor = factor(q)\n",
    "    d_j_list = []\n",
    "    for qa_j in q_factor:\n",
    "        p = qa_j[0]\n",
    "        a = qa_j[1]\n",
    "        S = E(0, 1, 0)\n",
    "        z = 0\n",
    "        P_0 = (q // p) * P\n",
    "        d_j = 0\n",
    "        for k in range(0, a):\n",
    "            S += int(z * (p**(k - 1))) * P\n",
    "            Q_k = int(q // (p**(k + 1))) * (Q - S)\n",
    "            z = discrete_log(Q_k, P_0, P_0.additive_order(), operation='+')\n",
    "            d_j += z * pow(p, k)\n",
    "            iter_count += 1\n",
    "        d_j_list.append(int(mod(d_j, p**a)))\n",
    "    q_j_list = [qa_j[0]**qa_j[1] for qa_j in q_factor]\n",
    "    d = crt(d_j_list, q_j_list)\n",
    "    print('Number of iterations = {}'.format(iter_count))\n",
    "    return d\n",
    "\n",
    "\n",
    "if __name__ == '__main__':\n",
    "    # Generating elliptic curve parameters\n",
    "    p = 310717010502520989590157367261876774703\n",
    "    a = 2\n",
    "    b = 3\n",
    "    print('Elliptic curve: A = {}, B = {}, p = {}'.format(a, b, p))\n",
    "    \n",
    "    K = GF(p)\n",
    "    E = EllipticCurve(K, [a, b])\n",
    "    P = E((179210853392303317793440285562762725654, 105268671499942631758568591033409611165))\n",
    "    Q = E((280810182131414898730378982766101210916, 291506490768054478159835604632710368904))\n",
    "    print('P =', P)\n",
    "    print('Q = d * P = ', Q)\n",
    "    timer = time()\n",
    "    d = polig_hellman_dl(E, P, Q)\n",
    "    print('Discrete logarithm found in {} seconds'.format(time() - timer))\n",
    "    print(d)"
   ]
  },
  {
   "cell_type": "code",
   "execution_count": null,
   "id": "0951f355",
   "metadata": {},
   "outputs": [],
   "source": []
  }
 ],
 "metadata": {
  "kernelspec": {
   "display_name": "SageMath 9.5",
   "language": "sage",
   "name": "sagemath"
  },
  "language_info": {
   "codemirror_mode": {
    "name": "ipython",
    "version": 3
   },
   "file_extension": ".py",
   "mimetype": "text/x-python",
   "name": "python",
   "nbconvert_exporter": "python",
   "pygments_lexer": "ipython3",
   "version": "3.10.12"
  }
 },
 "nbformat": 4,
 "nbformat_minor": 5
}
